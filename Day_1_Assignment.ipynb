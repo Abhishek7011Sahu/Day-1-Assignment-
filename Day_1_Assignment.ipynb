{
  "nbformat": 4,
  "nbformat_minor": 0,
  "metadata": {
    "colab": {
      "name": "Day 1 Assignment.ipynb",
      "provenance": [],
      "authorship_tag": "ABX9TyPwyp4CVfGCng+/K7xhbl98",
      "include_colab_link": true
    },
    "kernelspec": {
      "name": "python3",
      "display_name": "Python 3"
    },
    "language_info": {
      "name": "python"
    }
  },
  "cells": [
    {
      "cell_type": "markdown",
      "metadata": {
        "id": "view-in-github",
        "colab_type": "text"
      },
      "source": [
        "<a href=\"https://colab.research.google.com/github/Abhishek7011Sahu/Day-1-Assignment-/blob/main/Day_1_Assignment.ipynb\" target=\"_parent\"><img src=\"https://colab.research.google.com/assets/colab-badge.svg\" alt=\"Open In Colab\"/></a>"
      ]
    },
    {
      "cell_type": "code",
      "metadata": {
        "id": "iOeIKCpLnpb0"
      },
      "source": [
        "X = input(\"Enter your input\")\n",
        "val = [int(i) for i in X.split()]\n",
        "print(val)\n",
        "val.sort()\n",
        "print(val)\n",
        "val.sort(reverse=True)\n",
        "print(val)"
      ],
      "execution_count": null,
      "outputs": []
    }
  ]
}